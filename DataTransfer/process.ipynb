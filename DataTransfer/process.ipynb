{
 "cells": [
  {
   "cell_type": "markdown",
   "id": "037efe2b",
   "metadata": {},
   "source": [
    "Prueba tecnica\n"
   ]
  },
  {
   "cell_type": "code",
   "execution_count": 1,
   "id": "3d9c3845",
   "metadata": {},
   "outputs": [],
   "source": [
    "import pandas as pd"
   ]
  },
  {
   "cell_type": "code",
   "execution_count": 2,
   "id": "3965f217",
   "metadata": {},
   "outputs": [
    {
     "name": "stdout",
     "output_type": "stream",
     "text": [
      "<class 'pandas.core.frame.DataFrame'>\n",
      "RangeIndex: 10000 entries, 0 to 9999\n",
      "Data columns (total 7 columns):\n",
      " #   Column      Non-Null Count  Dtype  \n",
      "---  ------      --------------  -----  \n",
      " 0   id          9997 non-null   object \n",
      " 1   name        9997 non-null   object \n",
      " 2   company_id  9996 non-null   object \n",
      " 3   amount      10000 non-null  float64\n",
      " 4   status      10000 non-null  object \n",
      " 5   created_at  10000 non-null  object \n",
      " 6   paid_at     6009 non-null   object \n",
      "dtypes: float64(1), object(6)\n",
      "memory usage: 547.0+ KB\n"
     ]
    }
   ],
   "source": [
    "df = pd.read_csv(\"data/data.csv\")\n",
    "df.info()"
   ]
  },
  {
   "cell_type": "markdown",
   "id": "32881361",
   "metadata": {},
   "source": [
    "Siguiendo el esquema 1.3 los siguientes valores no deben ser nulos\n"
   ]
  },
  {
   "cell_type": "code",
   "execution_count": 3,
   "id": "15601ab0",
   "metadata": {},
   "outputs": [
    {
     "name": "stdout",
     "output_type": "stream",
     "text": [
      "id contains null values: True\n",
      "company_id contains null values: True\n",
      "amount contains null values: False\n",
      "status contains null values: False\n",
      "created_at contains null values: False\n"
     ]
    }
   ],
   "source": [
    "id_column = \"id\"\n",
    "conpany_id = \"company_id\"\n",
    "amount = \"amount\"\n",
    "status = \"status\"\n",
    "created_at = \"created_at\"\n",
    "\n",
    "\n",
    "columns_to_check = ['id', 'company_id', 'amount', 'status', 'created_at']\n",
    "\n",
    "null_check = df[columns_to_check].isna().any()\n",
    "\n",
    "for column, has_nulls in null_check.items():\n",
    "    print(f\"{column} contains null values: {has_nulls}\")"
   ]
  },
  {
   "cell_type": "markdown",
   "id": "1e41be16",
   "metadata": {},
   "source": [
    "Se eliminan las filas con ids nulos ya que estos valores son unicos, en este caso se puede hacer una investigacion mas detallada de los datos para no perder algun pago que no se registro correctamente.\n"
   ]
  },
  {
   "cell_type": "code",
   "execution_count": 4,
   "id": "e30cf4bf",
   "metadata": {},
   "outputs": [
    {
     "name": "stdout",
     "output_type": "stream",
     "text": [
      "id contains null values: False\n",
      "company_id contains null values: False\n",
      "amount contains null values: False\n",
      "status contains null values: False\n",
      "created_at contains null values: False\n"
     ]
    }
   ],
   "source": [
    "df_clean = df.dropna(subset=[id_column, conpany_id])\n",
    "null_check_clean = df_clean[columns_to_check].isna().any()\n",
    "for column, has_nulls in null_check_clean.items():\n",
    "    print(f\"{column} contains null values: {has_nulls}\")\n",
    "    \n",
    "\n"
   ]
  },
  {
   "cell_type": "markdown",
   "id": "d31d1cdf",
   "metadata": {},
   "source": [
    "Se puede observar que nuestro dataset esta limpio en los campos que nos interesa, no fue necesario hacer alguna otra transformacion\n"
   ]
  },
  {
   "cell_type": "code",
   "execution_count": 5,
   "id": "26d9249d",
   "metadata": {},
   "outputs": [
    {
     "name": "stdout",
     "output_type": "stream",
     "text": [
      "<class 'pandas.core.frame.DataFrame'>\n",
      "Index: 9993 entries, 0 to 9999\n",
      "Data columns (total 7 columns):\n",
      " #   Column      Non-Null Count  Dtype  \n",
      "---  ------      --------------  -----  \n",
      " 0   id          9993 non-null   object \n",
      " 1   name        9990 non-null   object \n",
      " 2   company_id  9993 non-null   object \n",
      " 3   amount      9993 non-null   float64\n",
      " 4   status      9993 non-null   object \n",
      " 5   created_at  9993 non-null   object \n",
      " 6   paid_at     6006 non-null   object \n",
      "dtypes: float64(1), object(6)\n",
      "memory usage: 624.6+ KB\n"
     ]
    }
   ],
   "source": [
    "df_clean.info() "
   ]
  },
  {
   "cell_type": "markdown",
   "id": "ba2cd0a9",
   "metadata": {},
   "source": [
    "Transformando los datos vacios a tipo none (null) y asi no tener porblemas con la base de datos\n"
   ]
  },
  {
   "cell_type": "markdown",
   "id": "f82e3e27",
   "metadata": {},
   "source": [
    "Al crear la vista, noté que hay un ID que no coincide con el correcto, pero sí contiene el nombre de la compañía. Por este motivo, se realiza esta verificación y transformación de los datos.\n"
   ]
  },
  {
   "cell_type": "markdown",
   "id": "51a75963",
   "metadata": {},
   "source": [
    "Verificamos si hay inconsistencias en el ID y se encontró una. Este valor podría reemplazarse por la moda para obtener datos más limpios.\n"
   ]
  },
  {
   "cell_type": "code",
   "execution_count": 6,
   "id": "bc0ee882",
   "metadata": {},
   "outputs": [
    {
     "name": "stderr",
     "output_type": "stream",
     "text": [
      "C:\\Users\\alvar\\AppData\\Local\\Temp\\ipykernel_53684\\371180580.py:7: SettingWithCopyWarning: \n",
      "A value is trying to be set on a copy of a slice from a DataFrame.\n",
      "Try using .loc[row_indexer,col_indexer] = value instead\n",
      "\n",
      "See the caveats in the documentation: https://pandas.pydata.org/pandas-docs/stable/user_guide/indexing.html#returning-a-view-versus-a-copy\n",
      "  df_clean.loc[:, 'canonical_id'] = df_clean['name'].map(mode_ids)\n"
     ]
    },
    {
     "data": {
      "text/html": [
       "<div>\n",
       "<style scoped>\n",
       "    .dataframe tbody tr th:only-of-type {\n",
       "        vertical-align: middle;\n",
       "    }\n",
       "\n",
       "    .dataframe tbody tr th {\n",
       "        vertical-align: top;\n",
       "    }\n",
       "\n",
       "    .dataframe thead th {\n",
       "        text-align: right;\n",
       "    }\n",
       "</style>\n",
       "<table border=\"1\" class=\"dataframe\">\n",
       "  <thead>\n",
       "    <tr style=\"text-align: right;\">\n",
       "      <th></th>\n",
       "      <th>id</th>\n",
       "      <th>name</th>\n",
       "      <th>company_id</th>\n",
       "      <th>amount</th>\n",
       "      <th>status</th>\n",
       "      <th>created_at</th>\n",
       "      <th>paid_at</th>\n",
       "    </tr>\n",
       "  </thead>\n",
       "  <tbody>\n",
       "    <tr>\n",
       "      <th>603</th>\n",
       "      <td>701ed7d3e728c41ecf58639f64de12d7dc2fc4df</td>\n",
       "      <td>MiPasajefy</td>\n",
       "      <td>*******</td>\n",
       "      <td>92.66</td>\n",
       "      <td>paid</td>\n",
       "      <td>2019-02-27</td>\n",
       "      <td>2019-02-27</td>\n",
       "    </tr>\n",
       "    <tr>\n",
       "      <th>731</th>\n",
       "      <td>ec79a21ef969c7fc6beef080ff56baf0aeeca8b5</td>\n",
       "      <td>NaN</td>\n",
       "      <td>cbf1c8b09cd5b549416d49d220a40cbd317f952e</td>\n",
       "      <td>112.52</td>\n",
       "      <td>paid</td>\n",
       "      <td>2019-02-14</td>\n",
       "      <td>2019-02-14</td>\n",
       "    </tr>\n",
       "    <tr>\n",
       "      <th>2199</th>\n",
       "      <td>6a6ac16d53a02ba7948bff0a534e45404e716c5b</td>\n",
       "      <td>NaN</td>\n",
       "      <td>cbf1c8b09cd5b549416d49d220a40cbd317f952e</td>\n",
       "      <td>244.88</td>\n",
       "      <td>voided</td>\n",
       "      <td>2019-05-09</td>\n",
       "      <td>NaN</td>\n",
       "    </tr>\n",
       "    <tr>\n",
       "      <th>2200</th>\n",
       "      <td>4740cf2624c3b929d9944cdfcb5c87e71a82ddc5</td>\n",
       "      <td>NaN</td>\n",
       "      <td>cbf1c8b09cd5b549416d49d220a40cbd317f952e</td>\n",
       "      <td>118.78</td>\n",
       "      <td>paid</td>\n",
       "      <td>2019-03-05</td>\n",
       "      <td>2019-03-06</td>\n",
       "    </tr>\n",
       "  </tbody>\n",
       "</table>\n",
       "</div>"
      ],
      "text/plain": [
       "                                            id        name  \\\n",
       "603   701ed7d3e728c41ecf58639f64de12d7dc2fc4df  MiPasajefy   \n",
       "731   ec79a21ef969c7fc6beef080ff56baf0aeeca8b5         NaN   \n",
       "2199  6a6ac16d53a02ba7948bff0a534e45404e716c5b         NaN   \n",
       "2200  4740cf2624c3b929d9944cdfcb5c87e71a82ddc5         NaN   \n",
       "\n",
       "                                    company_id  amount  status  created_at  \\\n",
       "603                                    *******   92.66    paid  2019-02-27   \n",
       "731   cbf1c8b09cd5b549416d49d220a40cbd317f952e  112.52    paid  2019-02-14   \n",
       "2199  cbf1c8b09cd5b549416d49d220a40cbd317f952e  244.88  voided  2019-05-09   \n",
       "2200  cbf1c8b09cd5b549416d49d220a40cbd317f952e  118.78    paid  2019-03-05   \n",
       "\n",
       "         paid_at  \n",
       "603   2019-02-27  \n",
       "731   2019-02-14  \n",
       "2199         NaN  \n",
       "2200  2019-03-06  "
      ]
     },
     "metadata": {},
     "output_type": "display_data"
    }
   ],
   "source": [
    "mode_ids = (\n",
    "    df_clean\n",
    "    .groupby('name')['company_id']\n",
    "    .agg(lambda s: s.mode().iat[0])\n",
    ")\n",
    "\n",
    "df_clean.loc[:, 'canonical_id'] = df_clean['name'].map(mode_ids)\n",
    "\n",
    "mismatched = df_clean[df_clean['company_id'] != df_clean['canonical_id']].drop(columns='canonical_id')\n",
    "\n",
    "display(mismatched)"
   ]
  },
  {
   "cell_type": "markdown",
   "id": "6cc3d38d",
   "metadata": {},
   "source": [
    "Remplazamos el valor del ID erroneo por la moda para no tener algun error\n"
   ]
  },
  {
   "cell_type": "code",
   "execution_count": 7,
   "id": "768857d0",
   "metadata": {},
   "outputs": [
    {
     "data": {
      "text/html": [
       "<div>\n",
       "<style scoped>\n",
       "    .dataframe tbody tr th:only-of-type {\n",
       "        vertical-align: middle;\n",
       "    }\n",
       "\n",
       "    .dataframe tbody tr th {\n",
       "        vertical-align: top;\n",
       "    }\n",
       "\n",
       "    .dataframe thead th {\n",
       "        text-align: right;\n",
       "    }\n",
       "</style>\n",
       "<table border=\"1\" class=\"dataframe\">\n",
       "  <thead>\n",
       "    <tr style=\"text-align: right;\">\n",
       "      <th></th>\n",
       "      <th>id</th>\n",
       "      <th>name</th>\n",
       "      <th>company_id</th>\n",
       "      <th>amount</th>\n",
       "      <th>status</th>\n",
       "      <th>created_at</th>\n",
       "      <th>paid_at</th>\n",
       "      <th>canonical_id</th>\n",
       "    </tr>\n",
       "  </thead>\n",
       "  <tbody>\n",
       "    <tr>\n",
       "      <th>603</th>\n",
       "      <td>701ed7d3e728c41ecf58639f64de12d7dc2fc4df</td>\n",
       "      <td>MiPasajefy</td>\n",
       "      <td>*******</td>\n",
       "      <td>92.66</td>\n",
       "      <td>paid</td>\n",
       "      <td>2019-02-27</td>\n",
       "      <td>2019-02-27</td>\n",
       "      <td>cbf1c8b09cd5b549416d49d220a40cbd317f952e</td>\n",
       "    </tr>\n",
       "  </tbody>\n",
       "</table>\n",
       "</div>"
      ],
      "text/plain": [
       "                                           id        name company_id  amount  \\\n",
       "603  701ed7d3e728c41ecf58639f64de12d7dc2fc4df  MiPasajefy    *******   92.66   \n",
       "\n",
       "    status  created_at     paid_at                              canonical_id  \n",
       "603   paid  2019-02-27  2019-02-27  cbf1c8b09cd5b549416d49d220a40cbd317f952e  "
      ]
     },
     "metadata": {},
     "output_type": "display_data"
    },
    {
     "data": {
      "text/html": [
       "<div>\n",
       "<style scoped>\n",
       "    .dataframe tbody tr th:only-of-type {\n",
       "        vertical-align: middle;\n",
       "    }\n",
       "\n",
       "    .dataframe tbody tr th {\n",
       "        vertical-align: top;\n",
       "    }\n",
       "\n",
       "    .dataframe thead th {\n",
       "        text-align: right;\n",
       "    }\n",
       "</style>\n",
       "<table border=\"1\" class=\"dataframe\">\n",
       "  <thead>\n",
       "    <tr style=\"text-align: right;\">\n",
       "      <th></th>\n",
       "      <th>id</th>\n",
       "      <th>name</th>\n",
       "      <th>company_id</th>\n",
       "      <th>amount</th>\n",
       "      <th>status</th>\n",
       "      <th>created_at</th>\n",
       "      <th>paid_at</th>\n",
       "      <th>canonical_id</th>\n",
       "    </tr>\n",
       "  </thead>\n",
       "  <tbody>\n",
       "    <tr>\n",
       "      <th>603</th>\n",
       "      <td>701ed7d3e728c41ecf58639f64de12d7dc2fc4df</td>\n",
       "      <td>MiPasajefy</td>\n",
       "      <td>cbf1c8b09cd5b549416d49d220a40cbd317f952e</td>\n",
       "      <td>92.66</td>\n",
       "      <td>paid</td>\n",
       "      <td>2019-02-27</td>\n",
       "      <td>2019-02-27</td>\n",
       "      <td>cbf1c8b09cd5b549416d49d220a40cbd317f952e</td>\n",
       "    </tr>\n",
       "  </tbody>\n",
       "</table>\n",
       "</div>"
      ],
      "text/plain": [
       "                                           id        name  \\\n",
       "603  701ed7d3e728c41ecf58639f64de12d7dc2fc4df  MiPasajefy   \n",
       "\n",
       "                                   company_id  amount status  created_at  \\\n",
       "603  cbf1c8b09cd5b549416d49d220a40cbd317f952e   92.66   paid  2019-02-27   \n",
       "\n",
       "        paid_at                              canonical_id  \n",
       "603  2019-02-27  cbf1c8b09cd5b549416d49d220a40cbd317f952e  "
      ]
     },
     "metadata": {},
     "output_type": "display_data"
    }
   ],
   "source": [
    "mode_ids = df_clean.groupby(\"name\")[\"company_id\"].agg(lambda x: x.mode()[0])\n",
    "comon_id = mode_ids[\"MiPasajefy\"]\n",
    "mask = df_clean['company_id'].str.len() < 10\n",
    "\n",
    "if mask.any():\n",
    "    display(df_clean[mask])\n",
    "    df_clean.loc[mask, \"company_id\"] = comon_id\n",
    "\n",
    "    display(df_clean[mask])\n"
   ]
  },
  {
   "cell_type": "markdown",
   "id": "1077421a",
   "metadata": {},
   "source": [
    "Guardamos el nuevo data set limpio\n"
   ]
  },
  {
   "cell_type": "code",
   "execution_count": 8,
   "id": "bec04454",
   "metadata": {},
   "outputs": [],
   "source": [
    "new_df = \"data/clean_data.csv\"\n",
    "df_clean.to_csv(new_df, index=False)"
   ]
  }
 ],
 "metadata": {
  "kernelspec": {
   "display_name": "transferEnv2",
   "language": "python",
   "name": "python3"
  },
  "language_info": {
   "codemirror_mode": {
    "name": "ipython",
    "version": 3
   },
   "file_extension": ".py",
   "mimetype": "text/x-python",
   "name": "python",
   "nbconvert_exporter": "python",
   "pygments_lexer": "ipython3",
   "version": "3.13.2"
  }
 },
 "nbformat": 4,
 "nbformat_minor": 5
}
